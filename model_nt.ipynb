{
 "cells": [
  {
   "cell_type": "markdown",
   "id": "8b94dedc",
   "metadata": {},
   "source": [
    "Below is the class defining the architecture of the model designed to process and classify financial news data and technical indicators. The model has two main branches: one for news sequences and one for technical indicators. \n",
    "\n",
    "The news branch applies a 1D convolutional layer with ReLU activation, followed by max-pooling and dropout for regularization, before feeding the processed features into an LSTM layer while the technical branch processes the technical indicators directly through an LSTM. A softmax activation is applied at the end to get class probabilities."
   ]
  },
  {
   "cell_type": "code",
   "execution_count": null,
   "id": "d0ce1b86",
   "metadata": {},
   "outputs": [],
   "source": [
    "import torch\n",
    "import torch.nn as nn\n",
    "import torch.nn.functional as F\n",
    "\n",
    "class NewsTechLSTM(nn.Module):\n",
    "    def __init__(self, embedding_dim=100, cnn_out_channels=64, news_hidden=128, tech_hidden=64,dropout=0.5, num_classes=2):\n",
    "        super(NewsTechLSTM, self).__init__()\n",
    "\n",
    "        # CNN + LSTM for News\n",
    "        self.conv1 = nn.Conv1d(embedding_dim, cnn_out_channels, kernel_size=3, padding=1)\n",
    "        self.relu = nn.ReLU()\n",
    "        self.pool = nn.MaxPool1d(kernel_size=2)\n",
    "        self.dropout = nn.Dropout(dropout)\n",
    "        self.news_lstm = nn.LSTM(cnn_out_channels, news_hidden, batch_first=True)\n",
    "\n",
    "        # LSTM for Technical Indicators\n",
    "        self.tech_lstm = nn.LSTM(7, tech_hidden, batch_first=True)\n",
    "\n",
    "        # Classifier\n",
    "        self.fc = nn.Linear(news_hidden + tech_hidden, num_classes)\n",
    "        self.softmax = nn.Softmax(dim=1)\n",
    "\n",
    "    def forward(self, news_seq, tech_seq):\n",
    "        x = news_seq.permute(0, 2, 1) \n",
    "        x = self.conv1(x)\n",
    "        x = self.relu(x)\n",
    "        x = self.pool(x)\n",
    "        x = self.dropout(x)\n",
    "        x = x.permute(0, 2, 1)\n",
    "\n",
    "        news_out, _ = self.news_lstm(x) \n",
    "        news_last = news_out[:, -1, :]  \n",
    "        tech_out, _ = self.tech_lstm(tech_seq)\n",
    "        tech_last = tech_out[:, -1, :] \n",
    "\n",
    "        combined = torch.cat((news_last,tech_last),dim=1)\n",
    "        out=self.fc(combined)\n",
    "        return self.softmax(out)"
   ]
  }
 ],
 "metadata": {
  "kernelspec": {
   "display_name": "Python 3",
   "language": "python",
   "name": "python3"
  },
  "language_info": {
   "codemirror_mode": {
    "name": "ipython",
    "version": 3
   },
   "file_extension": ".py",
   "mimetype": "text/x-python",
   "name": "python",
   "nbconvert_exporter": "python",
   "pygments_lexer": "ipython3",
   "version": "3.10.11"
  }
 },
 "nbformat": 4,
 "nbformat_minor": 5
}
